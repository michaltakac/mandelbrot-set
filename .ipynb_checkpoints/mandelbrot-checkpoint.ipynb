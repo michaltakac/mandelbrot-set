{
 "cells": [
  {
   "cell_type": "markdown",
   "metadata": {},
   "source": [
    "mandelbrot.py"
   ]
  },
  {
   "cell_type": "code",
   "execution_count": 1,
   "metadata": {},
   "outputs": [],
   "source": [
    "MAX_ITER = 100\n",
    "\n",
    "def mandelbrot(c):\n",
    "    z = 0\n",
    "    n = 0\n",
    "    while abs(z) <= 2 and n < MAX_ITER:\n",
    "        z = z*z + c\n",
    "        n += 1\n",
    "    return n"
   ]
  },
  {
   "cell_type": "markdown",
   "metadata": {},
   "source": [
    "plot.py"
   ]
  },
  {
   "cell_type": "code",
   "execution_count": 2,
   "metadata": {},
   "outputs": [],
   "source": [
    "from PIL import Image, ImageDraw\n",
    "\n",
    "# Image size (pixels)\n",
    "WIDTH = 600\n",
    "HEIGHT = 400\n",
    "\n",
    "# Plot window\n",
    "RE_START = -2\n",
    "RE_END = 1\n",
    "IM_START = -1\n",
    "IM_END = 1\n",
    "\n",
    "palette = []\n",
    "\n",
    "im = Image.new('RGB', (WIDTH, HEIGHT), (0, 0, 0))\n",
    "draw = ImageDraw.Draw(im)\n",
    "\n",
    "for x in range(0, WIDTH):\n",
    "    for y in range(0, HEIGHT):\n",
    "        # Convert pixel coordinate to complex number\n",
    "        c = complex(RE_START + (x / WIDTH) * (RE_END - RE_START),\n",
    "                    IM_START + (y / HEIGHT) * (IM_END - IM_START))\n",
    "        # Compute the number of iterations\n",
    "        m = mandelbrot(c)\n",
    "        # The color depends on the number of iterations\n",
    "        color = 255 - int(m * 255 / MAX_ITER)\n",
    "        # Plot the point\n",
    "        draw.point([x, y], (color, color, color))\n",
    "\n",
    "im.save('output.png', 'PNG')"
   ]
  },
  {
   "cell_type": "code",
   "execution_count": null,
   "metadata": {},
   "outputs": [],
   "source": []
  }
 ],
 "metadata": {
  "kernelspec": {
   "display_name": "Python 3",
   "language": "python",
   "name": "python3"
  },
  "language_info": {
   "codemirror_mode": {
    "name": "ipython",
    "version": 3
   },
   "file_extension": ".py",
   "mimetype": "text/x-python",
   "name": "python",
   "nbconvert_exporter": "python",
   "pygments_lexer": "ipython3",
   "version": "3.7.1"
  }
 },
 "nbformat": 4,
 "nbformat_minor": 2
}
